{
  "nbformat": 4,
  "nbformat_minor": 0,
  "metadata": {
    "colab": {
      "provenance": [],
      "toc_visible": true,
      "include_colab_link": true
    },
    "kernelspec": {
      "name": "python3",
      "display_name": "Python 3"
    },
    "language_info": {
      "name": "python"
    }
  },
  "cells": [
    {
      "cell_type": "markdown",
      "metadata": {
        "id": "view-in-github",
        "colab_type": "text"
      },
      "source": [
        "<a href=\"https://colab.research.google.com/github/Nandanisharma2002/capstone-project-Spotify-song-popularity-prediction/blob/main/Spotify_Popularity_Testing_%26_Deployment.ipynb\" target=\"_parent\"><img src=\"https://colab.research.google.com/assets/colab-badge.svg\" alt=\"Open In Colab\"/></a>"
      ]
    },
    {
      "cell_type": "markdown",
      "source": [
        "## **Spotify Track Data Collection for Model Validation**\n",
        "\n",
        "> This script leverages the Spotipy library to gather comprehensive track details from Spotify, such as audio features and popularity scores, across various genres and years. The collected data is exported as a CSV file to test the model prior to deployment.\n",
        "\n"
      ],
      "metadata": {
        "id": "BMQvLudJB4pW"
      }
    },
    {
      "cell_type": "code",
      "source": [
        "! pip install spotipy"
      ],
      "metadata": {
        "colab": {
          "base_uri": "https://localhost:8080/"
        },
        "id": "hbAuPHxgsjuk",
        "outputId": "a3595151-44ab-42f2-9497-3aeadae4c629"
      },
      "execution_count": null,
      "outputs": [
        {
          "output_type": "stream",
          "name": "stdout",
          "text": [
            "Collecting spotipy\n",
            "  Downloading spotipy-2.24.0-py3-none-any.whl.metadata (4.9 kB)\n",
            "Collecting redis>=3.5.3 (from spotipy)\n",
            "  Downloading redis-5.0.8-py3-none-any.whl.metadata (9.2 kB)\n",
            "Requirement already satisfied: requests>=2.25.0 in /usr/local/lib/python3.10/dist-packages (from spotipy) (2.31.0)\n",
            "Requirement already satisfied: urllib3>=1.26.0 in /usr/local/lib/python3.10/dist-packages (from spotipy) (2.0.7)\n",
            "Requirement already satisfied: async-timeout>=4.0.3 in /usr/local/lib/python3.10/dist-packages (from redis>=3.5.3->spotipy) (4.0.3)\n",
            "Requirement already satisfied: charset-normalizer<4,>=2 in /usr/local/lib/python3.10/dist-packages (from requests>=2.25.0->spotipy) (3.3.2)\n",
            "Requirement already satisfied: idna<4,>=2.5 in /usr/local/lib/python3.10/dist-packages (from requests>=2.25.0->spotipy) (3.7)\n",
            "Requirement already satisfied: certifi>=2017.4.17 in /usr/local/lib/python3.10/dist-packages (from requests>=2.25.0->spotipy) (2024.7.4)\n",
            "Downloading spotipy-2.24.0-py3-none-any.whl (30 kB)\n",
            "Downloading redis-5.0.8-py3-none-any.whl (255 kB)\n",
            "\u001b[2K   \u001b[90m━━━━━━━━━━━━━━━━━━━━━━━━━━━━━━━━━━━━━━━━\u001b[0m \u001b[32m255.6/255.6 kB\u001b[0m \u001b[31m6.6 MB/s\u001b[0m eta \u001b[36m0:00:00\u001b[0m\n",
            "\u001b[?25hInstalling collected packages: redis, spotipy\n",
            "Successfully installed redis-5.0.8 spotipy-2.24.0\n"
          ]
        }
      ]
    },
    {
      "cell_type": "code",
      "execution_count": null,
      "metadata": {
        "colab": {
          "base_uri": "https://localhost:8080/"
        },
        "id": "OWOs5FvBreE9",
        "outputId": "1ab9803c-b761-457c-ab01-0d4da4f70281"
      },
      "outputs": [
        {
          "output_type": "stream",
          "name": "stdout",
          "text": [
            "Collecting up to 150 tracks for query: happy\n",
            "Collected 50 tracks so far.\n",
            "Collecting up to 150 tracks for query: romance\n",
            "Collected 50 tracks so far.\n",
            "Collecting up to 150 tracks for query: folk\n",
            "Collected 50 tracks so far.\n",
            "Saved 150 collected tracks to Deployement_spotify_test_.csv\n"
          ]
        }
      ],
      "source": [
        "import spotipy\n",
        "from spotipy.oauth2 import SpotifyClientCredentials\n",
        "import pandas as pd\n",
        "import time\n",
        "\n",
        "# Define your credentials\n",
        "client_id = 'e5e7f11c15624f6595f48d44d105fb3f'\n",
        "client_secret = 'c1e2976a66174855ba4dc328f348e7a3'\n",
        "\n",
        "# Set up authorization\n",
        "sp = spotipy.Spotify(auth_manager=SpotifyClientCredentials(client_id=client_id, client_secret=client_secret))\n",
        "\n",
        "# Function to get track details\n",
        "def get_track_details(track_id, genre):\n",
        "    try:\n",
        "        track = sp.track(track_id)\n",
        "        features = sp.audio_features(track_id)[0]\n",
        "\n",
        "        # Get popularity metrics (streams/downloads if available)\n",
        "        popularity = sp.track(track_id)['popularity']\n",
        "\n",
        "        return {\n",
        "            'track_id': track['id'],\n",
        "            'artist': track['artists'][0]['name'],\n",
        "            'album': track['album']['name'],\n",
        "            'track_name': track['name'],\n",
        "            'popularity': popularity,\n",
        "            'duration_ms': features['duration_ms'],\n",
        "            'explicit': track['explicit'],\n",
        "            'danceability': features['danceability'],\n",
        "            'energy': features['energy'],\n",
        "            'key': features['key'],\n",
        "            'loudness': features['loudness'],\n",
        "            'mode': features['mode'],\n",
        "            'speechiness': features['speechiness'],\n",
        "            'acousticness': features['acousticness'],\n",
        "            'instrumentalness': features['instrumentalness'],\n",
        "            'liveness': features['liveness'],\n",
        "            'valence': features['valence'],\n",
        "            'tempo': features['tempo'],\n",
        "            'time_signature': features['time_signature'],\n",
        "            'genre': genre,\n",
        "        }\n",
        "    except Exception as e:\n",
        "        print(f\"Error getting details for track ID {track_id}: {e}\")\n",
        "        return None\n",
        "\n",
        "# Function to search and collect tracks\n",
        "def collect_tracks(query, year_start, year_end, max_tracks_to_collect):\n",
        "    all_tracks = []\n",
        "    limit = 50  # Max tracks per request\n",
        "    total_collected = 0\n",
        "\n",
        "    for year in range(year_start, year_end + 1):\n",
        "        for offset in range(0, max_tracks_to_collect, limit):\n",
        "            try:\n",
        "                results = sp.search(q=f'{query} year:{year}', type='track', limit=limit, offset=offset)\n",
        "                if not results['tracks']['items']:\n",
        "                    break\n",
        "\n",
        "                track_ids = [track['id'] for track in results['tracks']['items']]\n",
        "                track_data = [get_track_details(track_id, query) for track_id in track_ids if get_track_details(track_id, query) is not None]\n",
        "                all_tracks.extend(track_data)\n",
        "                total_collected += len(track_data)\n",
        "\n",
        "                # Print progress\n",
        "                print(f\"Collected {total_collected} tracks so far.\")\n",
        "\n",
        "                # Check if we have collected enough tracks\n",
        "                if total_collected >= max_tracks_to_collect:\n",
        "                    return all_tracks\n",
        "\n",
        "                # Respect rate limits\n",
        "                time.sleep(1)\n",
        "\n",
        "            except Exception as e:\n",
        "                print(f\"An error occurred: {e}\")\n",
        "                time.sleep(5)  # Wait a bit before retrying\n",
        "\n",
        "    return all_tracks\n",
        "\n",
        "# Collect data using different queries (genres)\n",
        "queries = ['happy','romance','folk','alt-rock','german','groove']\n",
        "year_start = 2019\n",
        "year_end = 2023\n",
        "max_tracks_to_collect = 150  # Set the maximum number of tracks to collect\n",
        "\n",
        "all_track_data = []\n",
        "\n",
        "for query in queries:\n",
        "    print(f\"Collecting up to {max_tracks_to_collect} tracks for query: {query}\")\n",
        "    track_data = collect_tracks(query, year_start, year_end, max_tracks_to_collect // len(queries))\n",
        "    all_track_data.extend(track_data)\n",
        "\n",
        "    # Check if we have collected enough tracks\n",
        "    if len(all_track_data) >= max_tracks_to_collect:\n",
        "        break\n",
        "\n",
        "# Convert to pandas DataFrame for easy manipulation\n",
        "valid_track_data = [track for track in all_track_data if track is not None]\n",
        "df = pd.DataFrame(valid_track_data)\n",
        "\n",
        "# Save to CSV\n",
        "df.to_csv('/content/drive/MyDrive/Capstone/Deployement_spotify_test_.csv', index=False)\n",
        "print(f\"Saved {len(df)} collected tracks to Deployement_spotify_test_.csv\")\n"
      ]
    },
    {
      "cell_type": "code",
      "source": [
        "# IMPORT LIBRARIES\n",
        "# Data Manipulation\n",
        "import numpy as np\n",
        "import pandas as pd\n",
        "\n",
        "# Warnings\n",
        "import warnings\n",
        "warnings.filterwarnings('ignore')\n",
        "\n",
        "# Preprocessing\n",
        "from sklearn.preprocessing import LabelEncoder"
      ],
      "metadata": {
        "id": "1jflU0QqveWK"
      },
      "execution_count": null,
      "outputs": []
    },
    {
      "cell_type": "markdown",
      "source": [
        "### **Preprocessing Spotify Track Data for Model Testing**\n",
        "> Assigning popularity classes and categories based on popularity scores, and selects relevant features for model testing. The processed data is used to validate the prediction model prior to deployment.\n",
        "\n"
      ],
      "metadata": {
        "id": "mT-R-ZpTCs2A"
      }
    },
    {
      "cell_type": "code",
      "source": [
        "data= pd.read_csv('/content/drive/MyDrive/Capstone/EDA/Deployement_spotify_test_.csv')"
      ],
      "metadata": {
        "id": "-QmRdt1vvjSO"
      },
      "execution_count": null,
      "outputs": []
    },
    {
      "cell_type": "code",
      "source": [
        "from google.colab import drive\n",
        "drive.mount('/content/drive')"
      ],
      "metadata": {
        "colab": {
          "base_uri": "https://localhost:8080/"
        },
        "id": "Z-Mg0oz2rnso",
        "outputId": "c9f09c8c-241e-4881-8ba1-00df43f06d52"
      },
      "execution_count": null,
      "outputs": [
        {
          "output_type": "stream",
          "name": "stdout",
          "text": [
            "Mounted at /content/drive\n"
          ]
        }
      ]
    },
    {
      "cell_type": "code",
      "source": [
        "data['popularity_class'] = 0\n",
        "data['popularity_category'] = ''\n",
        "\n",
        "# Assign classes and categories based on popularity ranges\n",
        "data.loc[data['popularity'] <= 25, 'popularity_class'] = 0\n",
        "data.loc[(data['popularity'] > 25) & (data['popularity'] <= 50), 'popularity_class'] = 1\n",
        "data.loc[(data['popularity'] > 50) & (data['popularity'] <= 75), 'popularity_class'] = 2\n",
        "data.loc[(data['popularity'] > 75) & (data['popularity'] <= 100), 'popularity_class'] = 3\n",
        "\n",
        "data.loc[data['popularity'] <= 25, 'popularity_category'] = 'Low Popularity'\n",
        "data.loc[(data['popularity'] > 25) & (data['popularity'] <= 50), 'popularity_category'] = 'Medium Popularity'\n",
        "data.loc[(data['popularity'] > 50) & (data['popularity'] <= 75), 'popularity_category'] = 'High Popularity'\n",
        "data.loc[(data['popularity'] > 75) & (data['popularity'] <= 100), 'popularity_category'] = 'Very High Popularity'"
      ],
      "metadata": {
        "id": "gnG7pbMwwF2s"
      },
      "execution_count": null,
      "outputs": []
    },
    {
      "cell_type": "code",
      "source": [
        "test=data[['duration_ms', 'explicit', 'danceability', 'energy', 'key', 'loudness',\n",
        "       'mode', 'speechiness', 'acousticness', 'instrumentalness', 'liveness',\n",
        "       'valence', 'tempo', 'time_signature', 'genre']]"
      ],
      "metadata": {
        "id": "6HHzxNxvwHoo"
      },
      "execution_count": null,
      "outputs": []
    },
    {
      "cell_type": "code",
      "source": [
        "# label encoding explicit\n",
        "le = LabelEncoder()\n",
        "test['explicit'] = le.fit_transform(test['explicit'])"
      ],
      "metadata": {
        "id": "GdcgXab-wf-V"
      },
      "execution_count": null,
      "outputs": []
    },
    {
      "cell_type": "code",
      "source": [
        "test.sample(3)"
      ],
      "metadata": {
        "colab": {
          "base_uri": "https://localhost:8080/",
          "height": 163
        },
        "id": "R4yVkn_MwY35",
        "outputId": "fac2e8e2-5d71-4f9d-f618-facb65304b84"
      },
      "execution_count": null,
      "outputs": [
        {
          "output_type": "execute_result",
          "data": {
            "text/plain": [
              "     duration_ms  explicit  danceability  energy  key  loudness  mode  \\\n",
              "101       249500         0         0.378   0.311    4   -15.147     1   \n",
              "44        173218         0         0.734   0.428    3   -11.622     1   \n",
              "141       212173         0         0.242   0.193   10   -17.435     1   \n",
              "\n",
              "     speechiness  acousticness  instrumentalness  liveness  valence    tempo  \\\n",
              "101       0.0336         0.832           0.94200     0.234   0.3030  119.994   \n",
              "44        0.0266         0.505           0.00802     0.108   0.6940   88.011   \n",
              "141       0.0430         0.979           0.01640     0.269   0.0726  103.537   \n",
              "\n",
              "     time_signature  genre  \n",
              "101               3   folk  \n",
              "44                4  happy  \n",
              "141               3   folk  "
            ],
            "text/html": [
              "\n",
              "  <div id=\"df-a92fcf8c-80f5-4ce9-bdff-ffb52b3d510c\" class=\"colab-df-container\">\n",
              "    <div>\n",
              "<style scoped>\n",
              "    .dataframe tbody tr th:only-of-type {\n",
              "        vertical-align: middle;\n",
              "    }\n",
              "\n",
              "    .dataframe tbody tr th {\n",
              "        vertical-align: top;\n",
              "    }\n",
              "\n",
              "    .dataframe thead th {\n",
              "        text-align: right;\n",
              "    }\n",
              "</style>\n",
              "<table border=\"1\" class=\"dataframe\">\n",
              "  <thead>\n",
              "    <tr style=\"text-align: right;\">\n",
              "      <th></th>\n",
              "      <th>duration_ms</th>\n",
              "      <th>explicit</th>\n",
              "      <th>danceability</th>\n",
              "      <th>energy</th>\n",
              "      <th>key</th>\n",
              "      <th>loudness</th>\n",
              "      <th>mode</th>\n",
              "      <th>speechiness</th>\n",
              "      <th>acousticness</th>\n",
              "      <th>instrumentalness</th>\n",
              "      <th>liveness</th>\n",
              "      <th>valence</th>\n",
              "      <th>tempo</th>\n",
              "      <th>time_signature</th>\n",
              "      <th>genre</th>\n",
              "    </tr>\n",
              "  </thead>\n",
              "  <tbody>\n",
              "    <tr>\n",
              "      <th>101</th>\n",
              "      <td>249500</td>\n",
              "      <td>0</td>\n",
              "      <td>0.378</td>\n",
              "      <td>0.311</td>\n",
              "      <td>4</td>\n",
              "      <td>-15.147</td>\n",
              "      <td>1</td>\n",
              "      <td>0.0336</td>\n",
              "      <td>0.832</td>\n",
              "      <td>0.94200</td>\n",
              "      <td>0.234</td>\n",
              "      <td>0.3030</td>\n",
              "      <td>119.994</td>\n",
              "      <td>3</td>\n",
              "      <td>folk</td>\n",
              "    </tr>\n",
              "    <tr>\n",
              "      <th>44</th>\n",
              "      <td>173218</td>\n",
              "      <td>0</td>\n",
              "      <td>0.734</td>\n",
              "      <td>0.428</td>\n",
              "      <td>3</td>\n",
              "      <td>-11.622</td>\n",
              "      <td>1</td>\n",
              "      <td>0.0266</td>\n",
              "      <td>0.505</td>\n",
              "      <td>0.00802</td>\n",
              "      <td>0.108</td>\n",
              "      <td>0.6940</td>\n",
              "      <td>88.011</td>\n",
              "      <td>4</td>\n",
              "      <td>happy</td>\n",
              "    </tr>\n",
              "    <tr>\n",
              "      <th>141</th>\n",
              "      <td>212173</td>\n",
              "      <td>0</td>\n",
              "      <td>0.242</td>\n",
              "      <td>0.193</td>\n",
              "      <td>10</td>\n",
              "      <td>-17.435</td>\n",
              "      <td>1</td>\n",
              "      <td>0.0430</td>\n",
              "      <td>0.979</td>\n",
              "      <td>0.01640</td>\n",
              "      <td>0.269</td>\n",
              "      <td>0.0726</td>\n",
              "      <td>103.537</td>\n",
              "      <td>3</td>\n",
              "      <td>folk</td>\n",
              "    </tr>\n",
              "  </tbody>\n",
              "</table>\n",
              "</div>\n",
              "    <div class=\"colab-df-buttons\">\n",
              "\n",
              "  <div class=\"colab-df-container\">\n",
              "    <button class=\"colab-df-convert\" onclick=\"convertToInteractive('df-a92fcf8c-80f5-4ce9-bdff-ffb52b3d510c')\"\n",
              "            title=\"Convert this dataframe to an interactive table.\"\n",
              "            style=\"display:none;\">\n",
              "\n",
              "  <svg xmlns=\"http://www.w3.org/2000/svg\" height=\"24px\" viewBox=\"0 -960 960 960\">\n",
              "    <path d=\"M120-120v-720h720v720H120Zm60-500h600v-160H180v160Zm220 220h160v-160H400v160Zm0 220h160v-160H400v160ZM180-400h160v-160H180v160Zm440 0h160v-160H620v160ZM180-180h160v-160H180v160Zm440 0h160v-160H620v160Z\"/>\n",
              "  </svg>\n",
              "    </button>\n",
              "\n",
              "  <style>\n",
              "    .colab-df-container {\n",
              "      display:flex;\n",
              "      gap: 12px;\n",
              "    }\n",
              "\n",
              "    .colab-df-convert {\n",
              "      background-color: #E8F0FE;\n",
              "      border: none;\n",
              "      border-radius: 50%;\n",
              "      cursor: pointer;\n",
              "      display: none;\n",
              "      fill: #1967D2;\n",
              "      height: 32px;\n",
              "      padding: 0 0 0 0;\n",
              "      width: 32px;\n",
              "    }\n",
              "\n",
              "    .colab-df-convert:hover {\n",
              "      background-color: #E2EBFA;\n",
              "      box-shadow: 0px 1px 2px rgba(60, 64, 67, 0.3), 0px 1px 3px 1px rgba(60, 64, 67, 0.15);\n",
              "      fill: #174EA6;\n",
              "    }\n",
              "\n",
              "    .colab-df-buttons div {\n",
              "      margin-bottom: 4px;\n",
              "    }\n",
              "\n",
              "    [theme=dark] .colab-df-convert {\n",
              "      background-color: #3B4455;\n",
              "      fill: #D2E3FC;\n",
              "    }\n",
              "\n",
              "    [theme=dark] .colab-df-convert:hover {\n",
              "      background-color: #434B5C;\n",
              "      box-shadow: 0px 1px 3px 1px rgba(0, 0, 0, 0.15);\n",
              "      filter: drop-shadow(0px 1px 2px rgba(0, 0, 0, 0.3));\n",
              "      fill: #FFFFFF;\n",
              "    }\n",
              "  </style>\n",
              "\n",
              "    <script>\n",
              "      const buttonEl =\n",
              "        document.querySelector('#df-a92fcf8c-80f5-4ce9-bdff-ffb52b3d510c button.colab-df-convert');\n",
              "      buttonEl.style.display =\n",
              "        google.colab.kernel.accessAllowed ? 'block' : 'none';\n",
              "\n",
              "      async function convertToInteractive(key) {\n",
              "        const element = document.querySelector('#df-a92fcf8c-80f5-4ce9-bdff-ffb52b3d510c');\n",
              "        const dataTable =\n",
              "          await google.colab.kernel.invokeFunction('convertToInteractive',\n",
              "                                                    [key], {});\n",
              "        if (!dataTable) return;\n",
              "\n",
              "        const docLinkHtml = 'Like what you see? Visit the ' +\n",
              "          '<a target=\"_blank\" href=https://colab.research.google.com/notebooks/data_table.ipynb>data table notebook</a>'\n",
              "          + ' to learn more about interactive tables.';\n",
              "        element.innerHTML = '';\n",
              "        dataTable['output_type'] = 'display_data';\n",
              "        await google.colab.output.renderOutput(dataTable, element);\n",
              "        const docLink = document.createElement('div');\n",
              "        docLink.innerHTML = docLinkHtml;\n",
              "        element.appendChild(docLink);\n",
              "      }\n",
              "    </script>\n",
              "  </div>\n",
              "\n",
              "\n",
              "<div id=\"df-2b21598a-b217-469d-a3be-08d8459593a6\">\n",
              "  <button class=\"colab-df-quickchart\" onclick=\"quickchart('df-2b21598a-b217-469d-a3be-08d8459593a6')\"\n",
              "            title=\"Suggest charts\"\n",
              "            style=\"display:none;\">\n",
              "\n",
              "<svg xmlns=\"http://www.w3.org/2000/svg\" height=\"24px\"viewBox=\"0 0 24 24\"\n",
              "     width=\"24px\">\n",
              "    <g>\n",
              "        <path d=\"M19 3H5c-1.1 0-2 .9-2 2v14c0 1.1.9 2 2 2h14c1.1 0 2-.9 2-2V5c0-1.1-.9-2-2-2zM9 17H7v-7h2v7zm4 0h-2V7h2v10zm4 0h-2v-4h2v4z\"/>\n",
              "    </g>\n",
              "</svg>\n",
              "  </button>\n",
              "\n",
              "<style>\n",
              "  .colab-df-quickchart {\n",
              "      --bg-color: #E8F0FE;\n",
              "      --fill-color: #1967D2;\n",
              "      --hover-bg-color: #E2EBFA;\n",
              "      --hover-fill-color: #174EA6;\n",
              "      --disabled-fill-color: #AAA;\n",
              "      --disabled-bg-color: #DDD;\n",
              "  }\n",
              "\n",
              "  [theme=dark] .colab-df-quickchart {\n",
              "      --bg-color: #3B4455;\n",
              "      --fill-color: #D2E3FC;\n",
              "      --hover-bg-color: #434B5C;\n",
              "      --hover-fill-color: #FFFFFF;\n",
              "      --disabled-bg-color: #3B4455;\n",
              "      --disabled-fill-color: #666;\n",
              "  }\n",
              "\n",
              "  .colab-df-quickchart {\n",
              "    background-color: var(--bg-color);\n",
              "    border: none;\n",
              "    border-radius: 50%;\n",
              "    cursor: pointer;\n",
              "    display: none;\n",
              "    fill: var(--fill-color);\n",
              "    height: 32px;\n",
              "    padding: 0;\n",
              "    width: 32px;\n",
              "  }\n",
              "\n",
              "  .colab-df-quickchart:hover {\n",
              "    background-color: var(--hover-bg-color);\n",
              "    box-shadow: 0 1px 2px rgba(60, 64, 67, 0.3), 0 1px 3px 1px rgba(60, 64, 67, 0.15);\n",
              "    fill: var(--button-hover-fill-color);\n",
              "  }\n",
              "\n",
              "  .colab-df-quickchart-complete:disabled,\n",
              "  .colab-df-quickchart-complete:disabled:hover {\n",
              "    background-color: var(--disabled-bg-color);\n",
              "    fill: var(--disabled-fill-color);\n",
              "    box-shadow: none;\n",
              "  }\n",
              "\n",
              "  .colab-df-spinner {\n",
              "    border: 2px solid var(--fill-color);\n",
              "    border-color: transparent;\n",
              "    border-bottom-color: var(--fill-color);\n",
              "    animation:\n",
              "      spin 1s steps(1) infinite;\n",
              "  }\n",
              "\n",
              "  @keyframes spin {\n",
              "    0% {\n",
              "      border-color: transparent;\n",
              "      border-bottom-color: var(--fill-color);\n",
              "      border-left-color: var(--fill-color);\n",
              "    }\n",
              "    20% {\n",
              "      border-color: transparent;\n",
              "      border-left-color: var(--fill-color);\n",
              "      border-top-color: var(--fill-color);\n",
              "    }\n",
              "    30% {\n",
              "      border-color: transparent;\n",
              "      border-left-color: var(--fill-color);\n",
              "      border-top-color: var(--fill-color);\n",
              "      border-right-color: var(--fill-color);\n",
              "    }\n",
              "    40% {\n",
              "      border-color: transparent;\n",
              "      border-right-color: var(--fill-color);\n",
              "      border-top-color: var(--fill-color);\n",
              "    }\n",
              "    60% {\n",
              "      border-color: transparent;\n",
              "      border-right-color: var(--fill-color);\n",
              "    }\n",
              "    80% {\n",
              "      border-color: transparent;\n",
              "      border-right-color: var(--fill-color);\n",
              "      border-bottom-color: var(--fill-color);\n",
              "    }\n",
              "    90% {\n",
              "      border-color: transparent;\n",
              "      border-bottom-color: var(--fill-color);\n",
              "    }\n",
              "  }\n",
              "</style>\n",
              "\n",
              "  <script>\n",
              "    async function quickchart(key) {\n",
              "      const quickchartButtonEl =\n",
              "        document.querySelector('#' + key + ' button');\n",
              "      quickchartButtonEl.disabled = true;  // To prevent multiple clicks.\n",
              "      quickchartButtonEl.classList.add('colab-df-spinner');\n",
              "      try {\n",
              "        const charts = await google.colab.kernel.invokeFunction(\n",
              "            'suggestCharts', [key], {});\n",
              "      } catch (error) {\n",
              "        console.error('Error during call to suggestCharts:', error);\n",
              "      }\n",
              "      quickchartButtonEl.classList.remove('colab-df-spinner');\n",
              "      quickchartButtonEl.classList.add('colab-df-quickchart-complete');\n",
              "    }\n",
              "    (() => {\n",
              "      let quickchartButtonEl =\n",
              "        document.querySelector('#df-2b21598a-b217-469d-a3be-08d8459593a6 button');\n",
              "      quickchartButtonEl.style.display =\n",
              "        google.colab.kernel.accessAllowed ? 'block' : 'none';\n",
              "    })();\n",
              "  </script>\n",
              "</div>\n",
              "\n",
              "    </div>\n",
              "  </div>\n"
            ],
            "application/vnd.google.colaboratory.intrinsic+json": {
              "type": "dataframe",
              "summary": "{\n  \"name\": \"test\",\n  \"rows\": 3,\n  \"fields\": [\n    {\n      \"column\": \"duration_ms\",\n      \"properties\": {\n        \"dtype\": \"number\",\n        \"std\": 38143,\n        \"min\": 173218,\n        \"max\": 249500,\n        \"num_unique_values\": 3,\n        \"samples\": [\n          249500,\n          173218,\n          212173\n        ],\n        \"semantic_type\": \"\",\n        \"description\": \"\"\n      }\n    },\n    {\n      \"column\": \"explicit\",\n      \"properties\": {\n        \"dtype\": \"number\",\n        \"std\": 0,\n        \"min\": 0,\n        \"max\": 0,\n        \"num_unique_values\": 1,\n        \"samples\": [\n          0\n        ],\n        \"semantic_type\": \"\",\n        \"description\": \"\"\n      }\n    },\n    {\n      \"column\": \"danceability\",\n      \"properties\": {\n        \"dtype\": \"number\",\n        \"std\": 0.25406560832456904,\n        \"min\": 0.242,\n        \"max\": 0.734,\n        \"num_unique_values\": 3,\n        \"samples\": [\n          0.378\n        ],\n        \"semantic_type\": \"\",\n        \"description\": \"\"\n      }\n    },\n    {\n      \"column\": \"energy\",\n      \"properties\": {\n        \"dtype\": \"number\",\n        \"std\": 0.11750035460939397,\n        \"min\": 0.193,\n        \"max\": 0.428,\n        \"num_unique_values\": 3,\n        \"samples\": [\n          0.311\n        ],\n        \"semantic_type\": \"\",\n        \"description\": \"\"\n      }\n    },\n    {\n      \"column\": \"key\",\n      \"properties\": {\n        \"dtype\": \"number\",\n        \"std\": 3,\n        \"min\": 3,\n        \"max\": 10,\n        \"num_unique_values\": 3,\n        \"samples\": [\n          4\n        ],\n        \"semantic_type\": \"\",\n        \"description\": \"\"\n      }\n    },\n    {\n      \"column\": \"loudness\",\n      \"properties\": {\n        \"dtype\": \"number\",\n        \"std\": 2.9283538606755384,\n        \"min\": -17.435,\n        \"max\": -11.622,\n        \"num_unique_values\": 3,\n        \"samples\": [\n          -15.147\n        ],\n        \"semantic_type\": \"\",\n        \"description\": \"\"\n      }\n    },\n    {\n      \"column\": \"mode\",\n      \"properties\": {\n        \"dtype\": \"number\",\n        \"std\": 0,\n        \"min\": 1,\n        \"max\": 1,\n        \"num_unique_values\": 1,\n        \"samples\": [\n          1\n        ],\n        \"semantic_type\": \"\",\n        \"description\": \"\"\n      }\n    },\n    {\n      \"column\": \"speechiness\",\n      \"properties\": {\n        \"dtype\": \"number\",\n        \"std\": 0.008229216244576393,\n        \"min\": 0.0266,\n        \"max\": 0.043,\n        \"num_unique_values\": 3,\n        \"samples\": [\n          0.0336\n        ],\n        \"semantic_type\": \"\",\n        \"description\": \"\"\n      }\n    },\n    {\n      \"column\": \"acousticness\",\n      \"properties\": {\n        \"dtype\": \"number\",\n        \"std\": 0.24262934694714897,\n        \"min\": 0.505,\n        \"max\": 0.979,\n        \"num_unique_values\": 3,\n        \"samples\": [\n          0.832\n        ],\n        \"semantic_type\": \"\",\n        \"description\": \"\"\n      }\n    },\n    {\n      \"column\": \"instrumentalness\",\n      \"properties\": {\n        \"dtype\": \"number\",\n        \"std\": 0.536830858651028,\n        \"min\": 0.00802,\n        \"max\": 0.942,\n        \"num_unique_values\": 3,\n        \"samples\": [\n          0.942\n        ],\n        \"semantic_type\": \"\",\n        \"description\": \"\"\n      }\n    },\n    {\n      \"column\": \"liveness\",\n      \"properties\": {\n        \"dtype\": \"number\",\n        \"std\": 0.08467782078757893,\n        \"min\": 0.108,\n        \"max\": 0.269,\n        \"num_unique_values\": 3,\n        \"samples\": [\n          0.234\n        ],\n        \"semantic_type\": \"\",\n        \"description\": \"\"\n      }\n    },\n    {\n      \"column\": \"valence\",\n      \"properties\": {\n        \"dtype\": \"number\",\n        \"std\": 0.31413986269388566,\n        \"min\": 0.0726,\n        \"max\": 0.694,\n        \"num_unique_values\": 3,\n        \"samples\": [\n          0.303\n        ],\n        \"semantic_type\": \"\",\n        \"description\": \"\"\n      }\n    },\n    {\n      \"column\": \"tempo\",\n      \"properties\": {\n        \"dtype\": \"number\",\n        \"std\": 15.993758230426437,\n        \"min\": 88.011,\n        \"max\": 119.994,\n        \"num_unique_values\": 3,\n        \"samples\": [\n          119.994\n        ],\n        \"semantic_type\": \"\",\n        \"description\": \"\"\n      }\n    },\n    {\n      \"column\": \"time_signature\",\n      \"properties\": {\n        \"dtype\": \"number\",\n        \"std\": 0,\n        \"min\": 3,\n        \"max\": 4,\n        \"num_unique_values\": 2,\n        \"samples\": [\n          4\n        ],\n        \"semantic_type\": \"\",\n        \"description\": \"\"\n      }\n    },\n    {\n      \"column\": \"genre\",\n      \"properties\": {\n        \"dtype\": \"string\",\n        \"num_unique_values\": 2,\n        \"samples\": [\n          \"happy\"\n        ],\n        \"semantic_type\": \"\",\n        \"description\": \"\"\n      }\n    }\n  ]\n}"
            }
          },
          "metadata": {},
          "execution_count": 8
        }
      ]
    },
    {
      "cell_type": "markdown",
      "source": [
        "### **Testing and Validating Spotify Track Popularity Predictions**\n",
        "\n",
        "\n",
        "> This code preprocesses Spotify track data by encoding genres using a predefined mapping, then applies a pre-trained Random Forest model to predict the popularity category of each track. The predicted popularity is added to the DataFrame for further analysis."
      ],
      "metadata": {
        "id": "zXta0hM7EWeB"
      }
    },
    {
      "cell_type": "code",
      "source": [
        "import pandas as pd\n",
        "import joblib\n",
        "\n",
        "# Load the model\n",
        "model_path = '/content/drive/MyDrive/Capstone/EDA/Final_random_forest_model.joblib'\n",
        "with open(model_path, 'rb') as file:\n",
        "    Final_Model = joblib.load(file)\n",
        "\n",
        "# Define the complete genre mapping\n",
        "genre_mapping = {\n",
        "    'Tamil': 5, 'Telugu': 6, 'Kannada': 2, 'Bollywood': 0, 'Rap': 3, 'Romance': 4, 'Indian pop': 1,\n",
        "    'acoustic': 7, 'afrobeat': 8, 'alt-rock': 9, 'alternative': 10, 'ambient': 11, 'anime': 12,\n",
        "    'black-metal': 13, 'bluegrass': 14, 'blues': 15, 'brazil': 16, 'breakbeat': 17, 'british': 18,\n",
        "    'cantopop': 19, 'chicago-house': 20, 'children': 21, 'chill': 22, 'classical': 23, 'club': 24,\n",
        "    'comedy': 25, 'country': 26, 'dance': 27, 'dancehall': 28, 'death-metal': 29, 'deep-house': 30,\n",
        "    'detroit-techno': 31, 'disco': 32, 'disney': 33, 'drum-and-bass': 34, 'dub': 35, 'dubstep': 36,\n",
        "    'edm': 37, 'electro': 38, 'electronic': 39, 'emo': 40, 'folk': 41, 'forro': 42, 'french': 43,\n",
        "    'funk': 44, 'garage': 45, 'german': 46, 'gospel': 47, 'goth': 48, 'grindcore': 49, 'groove': 50,\n",
        "    'grunge': 51, 'guitar': 52, 'happy': 53, 'hard-rock': 54, 'hardcore': 55, 'hardstyle': 56,\n",
        "    'heavy-metal': 57, 'hip-hop': 58, 'honky-tonk': 59, 'house': 60, 'idm': 61, 'indian': 62,\n",
        "    'indie-pop': 64, 'indie': 63, 'industrial': 65, 'iranian': 66, 'j-dance': 67, 'j-idol': 68,\n",
        "    'j-pop': 69, 'j-rock': 70, 'jazz': 71, 'k-pop': 72, 'kids': 73, 'latin': 74, 'latino': 75,\n",
        "    'malay': 76, 'mandopop': 77, 'metal': 78, 'metalcore': 79, 'minimal-techno': 80, 'mpb': 81,\n",
        "    'new-age': 82, 'opera': 83, 'pagode': 84, 'party': 85, 'piano': 86, 'pop-film': 88, 'pop': 87,\n",
        "    'power-pop': 89, 'progressive-house': 90, 'psych-rock': 91, 'punk-rock': 93, 'punk': 92,\n",
        "    'r-n-b': 94, 'reggae': 95, 'reggaeton': 96, 'rock-n-roll': 98, 'rock': 97, 'rockabilly': 99,\n",
        "    'romance': 100, 'sad': 101, 'salsa': 102, 'samba': 103, 'sertanejo': 104, 'show-tunes': 105,\n",
        "    'singer-songwriter': 106, 'ska': 107, 'sleep': 108, 'songwriter': 109, 'soul': 110, 'spanish': 111,\n",
        "    'study': 112, 'swedish': 113, 'synth-pop': 114, 'tango': 115, 'techno': 116, 'trance': 117,\n",
        "    'trip-hop': 118, 'turkish': 119, 'world-music': 120}\n",
        "\n",
        "df = test.copy()\n",
        "\n",
        "# Encode 'genre'\n",
        "df['genre'] = df['genre'].map(genre_mapping).fillna(-1).astype(int)\n",
        "\n",
        "predictions = Final_Model.predict(df)\n",
        "\n",
        "# Map the prediction to categories\n",
        "categories = ['Low Popularity', 'Medium Popularity', 'High Popularity', 'Very High Popularity']\n",
        "df['Predicted Popularity'] = [categories[pred] for pred in predictions]\n"
      ],
      "metadata": {
        "id": "T34InMFMwwiU"
      },
      "execution_count": null,
      "outputs": []
    },
    {
      "cell_type": "code",
      "source": [
        "import sklearn\n",
        "print(sklearn.__version__)"
      ],
      "metadata": {
        "colab": {
          "base_uri": "https://localhost:8080/"
        },
        "id": "mBZbeuBns98M",
        "outputId": "225df5b3-3e97-4e54-fe3e-3840cf6c7c41"
      },
      "execution_count": null,
      "outputs": [
        {
          "output_type": "stream",
          "name": "stdout",
          "text": [
            "1.3.2\n"
          ]
        }
      ]
    },
    {
      "source": [
        "!pip install scikit-learn==1.3.2"
      ],
      "cell_type": "code",
      "metadata": {
        "colab": {
          "base_uri": "https://localhost:8080/",
          "height": 357
        },
        "id": "sHgM1fS6tJBr",
        "outputId": "533b49b4-3528-4c06-d077-35d058456ed3"
      },
      "execution_count": null,
      "outputs": [
        {
          "output_type": "stream",
          "name": "stdout",
          "text": [
            "Collecting scikit-learn==1.3.2\n",
            "  Downloading scikit_learn-1.3.2-cp310-cp310-manylinux_2_17_x86_64.manylinux2014_x86_64.whl.metadata (11 kB)\n",
            "Requirement already satisfied: numpy<2.0,>=1.17.3 in /usr/local/lib/python3.10/dist-packages (from scikit-learn==1.3.2) (1.25.2)\n",
            "Requirement already satisfied: scipy>=1.5.0 in /usr/local/lib/python3.10/dist-packages (from scikit-learn==1.3.2) (1.11.4)\n",
            "Requirement already satisfied: joblib>=1.1.1 in /usr/local/lib/python3.10/dist-packages (from scikit-learn==1.3.2) (1.4.2)\n",
            "Requirement already satisfied: threadpoolctl>=2.0.0 in /usr/local/lib/python3.10/dist-packages (from scikit-learn==1.3.2) (3.5.0)\n",
            "Downloading scikit_learn-1.3.2-cp310-cp310-manylinux_2_17_x86_64.manylinux2014_x86_64.whl (10.8 MB)\n",
            "\u001b[2K   \u001b[90m━━━━━━━━━━━━━━━━━━━━━━━━━━━━━━━━━━━━━━━━\u001b[0m \u001b[32m10.8/10.8 MB\u001b[0m \u001b[31m47.1 MB/s\u001b[0m eta \u001b[36m0:00:00\u001b[0m\n",
            "\u001b[?25hInstalling collected packages: scikit-learn\n",
            "  Attempting uninstall: scikit-learn\n",
            "    Found existing installation: scikit-learn 1.2.2\n",
            "    Uninstalling scikit-learn-1.2.2:\n",
            "      Successfully uninstalled scikit-learn-1.2.2\n",
            "Successfully installed scikit-learn-1.3.2\n"
          ]
        },
        {
          "output_type": "display_data",
          "data": {
            "application/vnd.colab-display-data+json": {
              "pip_warning": {
                "packages": [
                  "sklearn"
                ]
              },
              "id": "b1dee606a3b24d4f999d89f6d0468774"
            }
          },
          "metadata": {}
        }
      ]
    },
    {
      "cell_type": "markdown",
      "source": [],
      "metadata": {
        "id": "vEoG6J1Hs9uW"
      }
    },
    {
      "cell_type": "markdown",
      "source": [
        "### **Comparing Predicted and Actual Popularity**\n",
        "\n",
        ">  Comparing predicted Spotify track popularity with actual categories, samples five entries, and counts instances of matching predictions to evaluate model performance.\n",
        "\n"
      ],
      "metadata": {
        "id": "ZVtJZgMcFvum"
      }
    },
    {
      "cell_type": "code",
      "source": [
        "df1=df['Predicted Popularity']\n",
        "df2=data['popularity_category']\n",
        "comparison_df=pd.DataFrame((df1,df2)).T\n",
        "comparison_df.sample(5)"
      ],
      "metadata": {
        "id": "jU5OD8Bozu-M",
        "colab": {
          "base_uri": "https://localhost:8080/",
          "height": 206
        },
        "outputId": "a4e5ba3f-4166-4589-8fcd-743ddceac71a"
      },
      "execution_count": null,
      "outputs": [
        {
          "output_type": "execute_result",
          "data": {
            "text/plain": [
              "    Predicted Popularity popularity_category\n",
              "11       High Popularity   Medium Popularity\n",
              "136       Low Popularity      Low Popularity\n",
              "69     Medium Popularity   Medium Popularity\n",
              "67     Medium Popularity   Medium Popularity\n",
              "88       High Popularity      Low Popularity"
            ],
            "text/html": [
              "\n",
              "  <div id=\"df-41c32b39-6320-4372-8ce2-d93aca1a65f3\" class=\"colab-df-container\">\n",
              "    <div>\n",
              "<style scoped>\n",
              "    .dataframe tbody tr th:only-of-type {\n",
              "        vertical-align: middle;\n",
              "    }\n",
              "\n",
              "    .dataframe tbody tr th {\n",
              "        vertical-align: top;\n",
              "    }\n",
              "\n",
              "    .dataframe thead th {\n",
              "        text-align: right;\n",
              "    }\n",
              "</style>\n",
              "<table border=\"1\" class=\"dataframe\">\n",
              "  <thead>\n",
              "    <tr style=\"text-align: right;\">\n",
              "      <th></th>\n",
              "      <th>Predicted Popularity</th>\n",
              "      <th>popularity_category</th>\n",
              "    </tr>\n",
              "  </thead>\n",
              "  <tbody>\n",
              "    <tr>\n",
              "      <th>11</th>\n",
              "      <td>High Popularity</td>\n",
              "      <td>Medium Popularity</td>\n",
              "    </tr>\n",
              "    <tr>\n",
              "      <th>136</th>\n",
              "      <td>Low Popularity</td>\n",
              "      <td>Low Popularity</td>\n",
              "    </tr>\n",
              "    <tr>\n",
              "      <th>69</th>\n",
              "      <td>Medium Popularity</td>\n",
              "      <td>Medium Popularity</td>\n",
              "    </tr>\n",
              "    <tr>\n",
              "      <th>67</th>\n",
              "      <td>Medium Popularity</td>\n",
              "      <td>Medium Popularity</td>\n",
              "    </tr>\n",
              "    <tr>\n",
              "      <th>88</th>\n",
              "      <td>High Popularity</td>\n",
              "      <td>Low Popularity</td>\n",
              "    </tr>\n",
              "  </tbody>\n",
              "</table>\n",
              "</div>\n",
              "    <div class=\"colab-df-buttons\">\n",
              "\n",
              "  <div class=\"colab-df-container\">\n",
              "    <button class=\"colab-df-convert\" onclick=\"convertToInteractive('df-41c32b39-6320-4372-8ce2-d93aca1a65f3')\"\n",
              "            title=\"Convert this dataframe to an interactive table.\"\n",
              "            style=\"display:none;\">\n",
              "\n",
              "  <svg xmlns=\"http://www.w3.org/2000/svg\" height=\"24px\" viewBox=\"0 -960 960 960\">\n",
              "    <path d=\"M120-120v-720h720v720H120Zm60-500h600v-160H180v160Zm220 220h160v-160H400v160Zm0 220h160v-160H400v160ZM180-400h160v-160H180v160Zm440 0h160v-160H620v160ZM180-180h160v-160H180v160Zm440 0h160v-160H620v160Z\"/>\n",
              "  </svg>\n",
              "    </button>\n",
              "\n",
              "  <style>\n",
              "    .colab-df-container {\n",
              "      display:flex;\n",
              "      gap: 12px;\n",
              "    }\n",
              "\n",
              "    .colab-df-convert {\n",
              "      background-color: #E8F0FE;\n",
              "      border: none;\n",
              "      border-radius: 50%;\n",
              "      cursor: pointer;\n",
              "      display: none;\n",
              "      fill: #1967D2;\n",
              "      height: 32px;\n",
              "      padding: 0 0 0 0;\n",
              "      width: 32px;\n",
              "    }\n",
              "\n",
              "    .colab-df-convert:hover {\n",
              "      background-color: #E2EBFA;\n",
              "      box-shadow: 0px 1px 2px rgba(60, 64, 67, 0.3), 0px 1px 3px 1px rgba(60, 64, 67, 0.15);\n",
              "      fill: #174EA6;\n",
              "    }\n",
              "\n",
              "    .colab-df-buttons div {\n",
              "      margin-bottom: 4px;\n",
              "    }\n",
              "\n",
              "    [theme=dark] .colab-df-convert {\n",
              "      background-color: #3B4455;\n",
              "      fill: #D2E3FC;\n",
              "    }\n",
              "\n",
              "    [theme=dark] .colab-df-convert:hover {\n",
              "      background-color: #434B5C;\n",
              "      box-shadow: 0px 1px 3px 1px rgba(0, 0, 0, 0.15);\n",
              "      filter: drop-shadow(0px 1px 2px rgba(0, 0, 0, 0.3));\n",
              "      fill: #FFFFFF;\n",
              "    }\n",
              "  </style>\n",
              "\n",
              "    <script>\n",
              "      const buttonEl =\n",
              "        document.querySelector('#df-41c32b39-6320-4372-8ce2-d93aca1a65f3 button.colab-df-convert');\n",
              "      buttonEl.style.display =\n",
              "        google.colab.kernel.accessAllowed ? 'block' : 'none';\n",
              "\n",
              "      async function convertToInteractive(key) {\n",
              "        const element = document.querySelector('#df-41c32b39-6320-4372-8ce2-d93aca1a65f3');\n",
              "        const dataTable =\n",
              "          await google.colab.kernel.invokeFunction('convertToInteractive',\n",
              "                                                    [key], {});\n",
              "        if (!dataTable) return;\n",
              "\n",
              "        const docLinkHtml = 'Like what you see? Visit the ' +\n",
              "          '<a target=\"_blank\" href=https://colab.research.google.com/notebooks/data_table.ipynb>data table notebook</a>'\n",
              "          + ' to learn more about interactive tables.';\n",
              "        element.innerHTML = '';\n",
              "        dataTable['output_type'] = 'display_data';\n",
              "        await google.colab.output.renderOutput(dataTable, element);\n",
              "        const docLink = document.createElement('div');\n",
              "        docLink.innerHTML = docLinkHtml;\n",
              "        element.appendChild(docLink);\n",
              "      }\n",
              "    </script>\n",
              "  </div>\n",
              "\n",
              "\n",
              "<div id=\"df-03d20ebc-aa5d-46e1-a55f-4d0f0b95824c\">\n",
              "  <button class=\"colab-df-quickchart\" onclick=\"quickchart('df-03d20ebc-aa5d-46e1-a55f-4d0f0b95824c')\"\n",
              "            title=\"Suggest charts\"\n",
              "            style=\"display:none;\">\n",
              "\n",
              "<svg xmlns=\"http://www.w3.org/2000/svg\" height=\"24px\"viewBox=\"0 0 24 24\"\n",
              "     width=\"24px\">\n",
              "    <g>\n",
              "        <path d=\"M19 3H5c-1.1 0-2 .9-2 2v14c0 1.1.9 2 2 2h14c1.1 0 2-.9 2-2V5c0-1.1-.9-2-2-2zM9 17H7v-7h2v7zm4 0h-2V7h2v10zm4 0h-2v-4h2v4z\"/>\n",
              "    </g>\n",
              "</svg>\n",
              "  </button>\n",
              "\n",
              "<style>\n",
              "  .colab-df-quickchart {\n",
              "      --bg-color: #E8F0FE;\n",
              "      --fill-color: #1967D2;\n",
              "      --hover-bg-color: #E2EBFA;\n",
              "      --hover-fill-color: #174EA6;\n",
              "      --disabled-fill-color: #AAA;\n",
              "      --disabled-bg-color: #DDD;\n",
              "  }\n",
              "\n",
              "  [theme=dark] .colab-df-quickchart {\n",
              "      --bg-color: #3B4455;\n",
              "      --fill-color: #D2E3FC;\n",
              "      --hover-bg-color: #434B5C;\n",
              "      --hover-fill-color: #FFFFFF;\n",
              "      --disabled-bg-color: #3B4455;\n",
              "      --disabled-fill-color: #666;\n",
              "  }\n",
              "\n",
              "  .colab-df-quickchart {\n",
              "    background-color: var(--bg-color);\n",
              "    border: none;\n",
              "    border-radius: 50%;\n",
              "    cursor: pointer;\n",
              "    display: none;\n",
              "    fill: var(--fill-color);\n",
              "    height: 32px;\n",
              "    padding: 0;\n",
              "    width: 32px;\n",
              "  }\n",
              "\n",
              "  .colab-df-quickchart:hover {\n",
              "    background-color: var(--hover-bg-color);\n",
              "    box-shadow: 0 1px 2px rgba(60, 64, 67, 0.3), 0 1px 3px 1px rgba(60, 64, 67, 0.15);\n",
              "    fill: var(--button-hover-fill-color);\n",
              "  }\n",
              "\n",
              "  .colab-df-quickchart-complete:disabled,\n",
              "  .colab-df-quickchart-complete:disabled:hover {\n",
              "    background-color: var(--disabled-bg-color);\n",
              "    fill: var(--disabled-fill-color);\n",
              "    box-shadow: none;\n",
              "  }\n",
              "\n",
              "  .colab-df-spinner {\n",
              "    border: 2px solid var(--fill-color);\n",
              "    border-color: transparent;\n",
              "    border-bottom-color: var(--fill-color);\n",
              "    animation:\n",
              "      spin 1s steps(1) infinite;\n",
              "  }\n",
              "\n",
              "  @keyframes spin {\n",
              "    0% {\n",
              "      border-color: transparent;\n",
              "      border-bottom-color: var(--fill-color);\n",
              "      border-left-color: var(--fill-color);\n",
              "    }\n",
              "    20% {\n",
              "      border-color: transparent;\n",
              "      border-left-color: var(--fill-color);\n",
              "      border-top-color: var(--fill-color);\n",
              "    }\n",
              "    30% {\n",
              "      border-color: transparent;\n",
              "      border-left-color: var(--fill-color);\n",
              "      border-top-color: var(--fill-color);\n",
              "      border-right-color: var(--fill-color);\n",
              "    }\n",
              "    40% {\n",
              "      border-color: transparent;\n",
              "      border-right-color: var(--fill-color);\n",
              "      border-top-color: var(--fill-color);\n",
              "    }\n",
              "    60% {\n",
              "      border-color: transparent;\n",
              "      border-right-color: var(--fill-color);\n",
              "    }\n",
              "    80% {\n",
              "      border-color: transparent;\n",
              "      border-right-color: var(--fill-color);\n",
              "      border-bottom-color: var(--fill-color);\n",
              "    }\n",
              "    90% {\n",
              "      border-color: transparent;\n",
              "      border-bottom-color: var(--fill-color);\n",
              "    }\n",
              "  }\n",
              "</style>\n",
              "\n",
              "  <script>\n",
              "    async function quickchart(key) {\n",
              "      const quickchartButtonEl =\n",
              "        document.querySelector('#' + key + ' button');\n",
              "      quickchartButtonEl.disabled = true;  // To prevent multiple clicks.\n",
              "      quickchartButtonEl.classList.add('colab-df-spinner');\n",
              "      try {\n",
              "        const charts = await google.colab.kernel.invokeFunction(\n",
              "            'suggestCharts', [key], {});\n",
              "      } catch (error) {\n",
              "        console.error('Error during call to suggestCharts:', error);\n",
              "      }\n",
              "      quickchartButtonEl.classList.remove('colab-df-spinner');\n",
              "      quickchartButtonEl.classList.add('colab-df-quickchart-complete');\n",
              "    }\n",
              "    (() => {\n",
              "      let quickchartButtonEl =\n",
              "        document.querySelector('#df-03d20ebc-aa5d-46e1-a55f-4d0f0b95824c button');\n",
              "      quickchartButtonEl.style.display =\n",
              "        google.colab.kernel.accessAllowed ? 'block' : 'none';\n",
              "    })();\n",
              "  </script>\n",
              "</div>\n",
              "\n",
              "    </div>\n",
              "  </div>\n"
            ],
            "application/vnd.google.colaboratory.intrinsic+json": {
              "type": "dataframe",
              "summary": "{\n  \"name\": \"comparison_df\",\n  \"rows\": 5,\n  \"fields\": [\n    {\n      \"column\": \"Predicted Popularity\",\n      \"properties\": {\n        \"dtype\": \"string\",\n        \"num_unique_values\": 3,\n        \"samples\": [\n          \"High Popularity\",\n          \"Low Popularity\",\n          \"Medium Popularity\"\n        ],\n        \"semantic_type\": \"\",\n        \"description\": \"\"\n      }\n    },\n    {\n      \"column\": \"popularity_category\",\n      \"properties\": {\n        \"dtype\": \"category\",\n        \"num_unique_values\": 2,\n        \"samples\": [\n          \"Low Popularity\",\n          \"Medium Popularity\"\n        ],\n        \"semantic_type\": \"\",\n        \"description\": \"\"\n      }\n    }\n  ]\n}"
            }
          },
          "metadata": {},
          "execution_count": 11
        }
      ]
    },
    {
      "cell_type": "code",
      "source": [
        "# The actual categories\n",
        "data['popularity_category'].value_counts()"
      ],
      "metadata": {
        "colab": {
          "base_uri": "https://localhost:8080/",
          "height": 241
        },
        "id": "4rW-Cu0FGzSQ",
        "outputId": "aa082d5f-58ee-4c0e-aa34-cff209745a68"
      },
      "execution_count": null,
      "outputs": [
        {
          "output_type": "execute_result",
          "data": {
            "text/plain": [
              "popularity_category\n",
              "Medium Popularity       93\n",
              "Low Popularity          40\n",
              "High Popularity         16\n",
              "Very High Popularity     1\n",
              "Name: count, dtype: int64"
            ],
            "text/html": [
              "<div>\n",
              "<style scoped>\n",
              "    .dataframe tbody tr th:only-of-type {\n",
              "        vertical-align: middle;\n",
              "    }\n",
              "\n",
              "    .dataframe tbody tr th {\n",
              "        vertical-align: top;\n",
              "    }\n",
              "\n",
              "    .dataframe thead th {\n",
              "        text-align: right;\n",
              "    }\n",
              "</style>\n",
              "<table border=\"1\" class=\"dataframe\">\n",
              "  <thead>\n",
              "    <tr style=\"text-align: right;\">\n",
              "      <th></th>\n",
              "      <th>count</th>\n",
              "    </tr>\n",
              "    <tr>\n",
              "      <th>popularity_category</th>\n",
              "      <th></th>\n",
              "    </tr>\n",
              "  </thead>\n",
              "  <tbody>\n",
              "    <tr>\n",
              "      <th>Medium Popularity</th>\n",
              "      <td>93</td>\n",
              "    </tr>\n",
              "    <tr>\n",
              "      <th>Low Popularity</th>\n",
              "      <td>40</td>\n",
              "    </tr>\n",
              "    <tr>\n",
              "      <th>High Popularity</th>\n",
              "      <td>16</td>\n",
              "    </tr>\n",
              "    <tr>\n",
              "      <th>Very High Popularity</th>\n",
              "      <td>1</td>\n",
              "    </tr>\n",
              "  </tbody>\n",
              "</table>\n",
              "</div><br><label><b>dtype:</b> int64</label>"
            ]
          },
          "metadata": {},
          "execution_count": 12
        }
      ]
    },
    {
      "cell_type": "code",
      "source": [
        "# Count and display the instances where predictions match the actual categories\n",
        "comparison_df[comparison_df['Predicted Popularity']==comparison_df['popularity_category']].value_counts()"
      ],
      "metadata": {
        "colab": {
          "base_uri": "https://localhost:8080/",
          "height": 209
        },
        "id": "R1N6hR8w03qt",
        "outputId": "7dacbb3e-3e0b-4847-9e95-832024ef8082"
      },
      "execution_count": null,
      "outputs": [
        {
          "output_type": "execute_result",
          "data": {
            "text/plain": [
              "Predicted Popularity  popularity_category\n",
              "Medium Popularity     Medium Popularity      39\n",
              "Low Popularity        Low Popularity         21\n",
              "High Popularity       High Popularity         2\n",
              "Name: count, dtype: int64"
            ],
            "text/html": [
              "<div>\n",
              "<style scoped>\n",
              "    .dataframe tbody tr th:only-of-type {\n",
              "        vertical-align: middle;\n",
              "    }\n",
              "\n",
              "    .dataframe tbody tr th {\n",
              "        vertical-align: top;\n",
              "    }\n",
              "\n",
              "    .dataframe thead th {\n",
              "        text-align: right;\n",
              "    }\n",
              "</style>\n",
              "<table border=\"1\" class=\"dataframe\">\n",
              "  <thead>\n",
              "    <tr style=\"text-align: right;\">\n",
              "      <th></th>\n",
              "      <th></th>\n",
              "      <th>count</th>\n",
              "    </tr>\n",
              "    <tr>\n",
              "      <th>Predicted Popularity</th>\n",
              "      <th>popularity_category</th>\n",
              "      <th></th>\n",
              "    </tr>\n",
              "  </thead>\n",
              "  <tbody>\n",
              "    <tr>\n",
              "      <th>Medium Popularity</th>\n",
              "      <th>Medium Popularity</th>\n",
              "      <td>39</td>\n",
              "    </tr>\n",
              "    <tr>\n",
              "      <th>Low Popularity</th>\n",
              "      <th>Low Popularity</th>\n",
              "      <td>21</td>\n",
              "    </tr>\n",
              "    <tr>\n",
              "      <th>High Popularity</th>\n",
              "      <th>High Popularity</th>\n",
              "      <td>2</td>\n",
              "    </tr>\n",
              "  </tbody>\n",
              "</table>\n",
              "</div><br><label><b>dtype:</b> int64</label>"
            ]
          },
          "metadata": {},
          "execution_count": 13
        }
      ]
    },
    {
      "cell_type": "markdown",
      "source": [
        "### **Inference:**\n",
        "Out of a total of 150 tracks, the model demonstrated notable performance in predicting popularity categories. It correctly identified:\n",
        "\n",
        "> * Medium Popularity: 39 tracks out of 93\n",
        "* Low Popularity: 21 tracks out of 40\n",
        "* High Popularity: 2 tracks out of 16\n",
        "\n",
        "The model shows strong predictive accuracy for 'Medium Popularity,' which constitutes the majority of the dataset. This indicates a solid foundation for deployment. However, further refinement is needed for predicting less frequent categories like 'High Popularity' and 'Very High Popularity' due to their limited representation in the data. Overall, the model is well-positioned for deployment with targeted improvements.\n",
        "\n",
        "\n"
      ],
      "metadata": {
        "id": "vLcOu_EkIbAG"
      }
    },
    {
      "cell_type": "markdown",
      "source": [
        "# **Spotify Song Popularity Predictor Deployment**\n",
        "\n",
        "\n",
        "\n"
      ],
      "metadata": {
        "id": "6IC3zg3lMJqd"
      }
    },
    {
      "cell_type": "code",
      "source": [
        "!pip install gradio"
      ],
      "metadata": {
        "colab": {
          "base_uri": "https://localhost:8080/"
        },
        "id": "qaXC4Og-J0-9",
        "outputId": "c2f72bf6-d3b0-4c66-c994-f27769bb6be1"
      },
      "execution_count": null,
      "outputs": [
        {
          "output_type": "stream",
          "name": "stdout",
          "text": [
            "Collecting gradio\n",
            "  Downloading gradio-4.42.0-py3-none-any.whl.metadata (15 kB)\n",
            "Collecting aiofiles<24.0,>=22.0 (from gradio)\n",
            "  Downloading aiofiles-23.2.1-py3-none-any.whl.metadata (9.7 kB)\n",
            "Requirement already satisfied: anyio<5.0,>=3.0 in /usr/local/lib/python3.10/dist-packages (from gradio) (3.7.1)\n",
            "Collecting fastapi (from gradio)\n",
            "  Downloading fastapi-0.112.1-py3-none-any.whl.metadata (27 kB)\n",
            "Collecting ffmpy (from gradio)\n",
            "  Downloading ffmpy-0.4.0-py3-none-any.whl.metadata (2.9 kB)\n",
            "Collecting gradio-client==1.3.0 (from gradio)\n",
            "  Downloading gradio_client-1.3.0-py3-none-any.whl.metadata (7.1 kB)\n",
            "Collecting httpx>=0.24.1 (from gradio)\n",
            "  Downloading httpx-0.27.0-py3-none-any.whl.metadata (7.2 kB)\n",
            "Requirement already satisfied: huggingface-hub>=0.19.3 in /usr/local/lib/python3.10/dist-packages (from gradio) (0.23.5)\n",
            "Requirement already satisfied: importlib-resources<7.0,>=1.3 in /usr/local/lib/python3.10/dist-packages (from gradio) (6.4.2)\n",
            "Requirement already satisfied: jinja2<4.0 in /usr/local/lib/python3.10/dist-packages (from gradio) (3.1.4)\n",
            "Requirement already satisfied: markupsafe~=2.0 in /usr/local/lib/python3.10/dist-packages (from gradio) (2.1.5)\n",
            "Requirement already satisfied: matplotlib~=3.0 in /usr/local/lib/python3.10/dist-packages (from gradio) (3.7.1)\n",
            "Requirement already satisfied: numpy<3.0,>=1.0 in /usr/local/lib/python3.10/dist-packages (from gradio) (1.26.4)\n",
            "Collecting orjson~=3.0 (from gradio)\n",
            "  Downloading orjson-3.10.7-cp310-cp310-manylinux_2_17_x86_64.manylinux2014_x86_64.whl.metadata (50 kB)\n",
            "\u001b[2K     \u001b[90m━━━━━━━━━━━━━━━━━━━━━━━━━━━━━━━━━━━━━━━━\u001b[0m \u001b[32m50.4/50.4 kB\u001b[0m \u001b[31m2.4 MB/s\u001b[0m eta \u001b[36m0:00:00\u001b[0m\n",
            "\u001b[?25hRequirement already satisfied: packaging in /usr/local/lib/python3.10/dist-packages (from gradio) (24.1)\n",
            "Requirement already satisfied: pandas<3.0,>=1.0 in /usr/local/lib/python3.10/dist-packages (from gradio) (2.1.4)\n",
            "Requirement already satisfied: pillow<11.0,>=8.0 in /usr/local/lib/python3.10/dist-packages (from gradio) (9.4.0)\n",
            "Requirement already satisfied: pydantic>=2.0 in /usr/local/lib/python3.10/dist-packages (from gradio) (2.8.2)\n",
            "Collecting pydub (from gradio)\n",
            "  Downloading pydub-0.25.1-py2.py3-none-any.whl.metadata (1.4 kB)\n",
            "Collecting python-multipart>=0.0.9 (from gradio)\n",
            "  Downloading python_multipart-0.0.9-py3-none-any.whl.metadata (2.5 kB)\n",
            "Requirement already satisfied: pyyaml<7.0,>=5.0 in /usr/local/lib/python3.10/dist-packages (from gradio) (6.0.2)\n",
            "Collecting ruff>=0.2.2 (from gradio)\n",
            "  Downloading ruff-0.6.1-py3-none-manylinux_2_17_x86_64.manylinux2014_x86_64.whl.metadata (25 kB)\n",
            "Collecting semantic-version~=2.0 (from gradio)\n",
            "  Downloading semantic_version-2.10.0-py2.py3-none-any.whl.metadata (9.7 kB)\n",
            "Collecting tomlkit==0.12.0 (from gradio)\n",
            "  Downloading tomlkit-0.12.0-py3-none-any.whl.metadata (2.7 kB)\n",
            "Requirement already satisfied: typer<1.0,>=0.12 in /usr/local/lib/python3.10/dist-packages (from gradio) (0.12.3)\n",
            "Requirement already satisfied: typing-extensions~=4.0 in /usr/local/lib/python3.10/dist-packages (from gradio) (4.12.2)\n",
            "Requirement already satisfied: urllib3~=2.0 in /usr/local/lib/python3.10/dist-packages (from gradio) (2.0.7)\n",
            "Collecting uvicorn>=0.14.0 (from gradio)\n",
            "  Downloading uvicorn-0.30.6-py3-none-any.whl.metadata (6.6 kB)\n",
            "Requirement already satisfied: fsspec in /usr/local/lib/python3.10/dist-packages (from gradio-client==1.3.0->gradio) (2024.6.1)\n",
            "Collecting websockets<13.0,>=10.0 (from gradio-client==1.3.0->gradio)\n",
            "  Downloading websockets-12.0-cp310-cp310-manylinux_2_5_x86_64.manylinux1_x86_64.manylinux_2_17_x86_64.manylinux2014_x86_64.whl.metadata (6.6 kB)\n",
            "Requirement already satisfied: idna>=2.8 in /usr/local/lib/python3.10/dist-packages (from anyio<5.0,>=3.0->gradio) (3.7)\n",
            "Requirement already satisfied: sniffio>=1.1 in /usr/local/lib/python3.10/dist-packages (from anyio<5.0,>=3.0->gradio) (1.3.1)\n",
            "Requirement already satisfied: exceptiongroup in /usr/local/lib/python3.10/dist-packages (from anyio<5.0,>=3.0->gradio) (1.2.2)\n",
            "Requirement already satisfied: certifi in /usr/local/lib/python3.10/dist-packages (from httpx>=0.24.1->gradio) (2024.7.4)\n",
            "Collecting httpcore==1.* (from httpx>=0.24.1->gradio)\n",
            "  Downloading httpcore-1.0.5-py3-none-any.whl.metadata (20 kB)\n",
            "Collecting h11<0.15,>=0.13 (from httpcore==1.*->httpx>=0.24.1->gradio)\n",
            "  Downloading h11-0.14.0-py3-none-any.whl.metadata (8.2 kB)\n",
            "Requirement already satisfied: filelock in /usr/local/lib/python3.10/dist-packages (from huggingface-hub>=0.19.3->gradio) (3.15.4)\n",
            "Requirement already satisfied: requests in /usr/local/lib/python3.10/dist-packages (from huggingface-hub>=0.19.3->gradio) (2.32.3)\n",
            "Requirement already satisfied: tqdm>=4.42.1 in /usr/local/lib/python3.10/dist-packages (from huggingface-hub>=0.19.3->gradio) (4.66.5)\n",
            "Requirement already satisfied: contourpy>=1.0.1 in /usr/local/lib/python3.10/dist-packages (from matplotlib~=3.0->gradio) (1.2.1)\n",
            "Requirement already satisfied: cycler>=0.10 in /usr/local/lib/python3.10/dist-packages (from matplotlib~=3.0->gradio) (0.12.1)\n",
            "Requirement already satisfied: fonttools>=4.22.0 in /usr/local/lib/python3.10/dist-packages (from matplotlib~=3.0->gradio) (4.53.1)\n",
            "Requirement already satisfied: kiwisolver>=1.0.1 in /usr/local/lib/python3.10/dist-packages (from matplotlib~=3.0->gradio) (1.4.5)\n",
            "Requirement already satisfied: pyparsing>=2.3.1 in /usr/local/lib/python3.10/dist-packages (from matplotlib~=3.0->gradio) (3.1.2)\n",
            "Requirement already satisfied: python-dateutil>=2.7 in /usr/local/lib/python3.10/dist-packages (from matplotlib~=3.0->gradio) (2.8.2)\n",
            "Requirement already satisfied: pytz>=2020.1 in /usr/local/lib/python3.10/dist-packages (from pandas<3.0,>=1.0->gradio) (2024.1)\n",
            "Requirement already satisfied: tzdata>=2022.1 in /usr/local/lib/python3.10/dist-packages (from pandas<3.0,>=1.0->gradio) (2024.1)\n",
            "Requirement already satisfied: annotated-types>=0.4.0 in /usr/local/lib/python3.10/dist-packages (from pydantic>=2.0->gradio) (0.7.0)\n",
            "Requirement already satisfied: pydantic-core==2.20.1 in /usr/local/lib/python3.10/dist-packages (from pydantic>=2.0->gradio) (2.20.1)\n",
            "Requirement already satisfied: click>=8.0.0 in /usr/local/lib/python3.10/dist-packages (from typer<1.0,>=0.12->gradio) (8.1.7)\n",
            "Requirement already satisfied: shellingham>=1.3.0 in /usr/local/lib/python3.10/dist-packages (from typer<1.0,>=0.12->gradio) (1.5.4)\n",
            "Requirement already satisfied: rich>=10.11.0 in /usr/local/lib/python3.10/dist-packages (from typer<1.0,>=0.12->gradio) (13.7.1)\n",
            "Collecting starlette<0.39.0,>=0.37.2 (from fastapi->gradio)\n",
            "  Downloading starlette-0.38.2-py3-none-any.whl.metadata (5.9 kB)\n",
            "Requirement already satisfied: six>=1.5 in /usr/local/lib/python3.10/dist-packages (from python-dateutil>=2.7->matplotlib~=3.0->gradio) (1.16.0)\n",
            "Requirement already satisfied: markdown-it-py>=2.2.0 in /usr/local/lib/python3.10/dist-packages (from rich>=10.11.0->typer<1.0,>=0.12->gradio) (3.0.0)\n",
            "Requirement already satisfied: pygments<3.0.0,>=2.13.0 in /usr/local/lib/python3.10/dist-packages (from rich>=10.11.0->typer<1.0,>=0.12->gradio) (2.16.1)\n",
            "Requirement already satisfied: charset-normalizer<4,>=2 in /usr/local/lib/python3.10/dist-packages (from requests->huggingface-hub>=0.19.3->gradio) (3.3.2)\n",
            "Requirement already satisfied: mdurl~=0.1 in /usr/local/lib/python3.10/dist-packages (from markdown-it-py>=2.2.0->rich>=10.11.0->typer<1.0,>=0.12->gradio) (0.1.2)\n",
            "Downloading gradio-4.42.0-py3-none-any.whl (16.8 MB)\n",
            "\u001b[2K   \u001b[90m━━━━━━━━━━━━━━━━━━━━━━━━━━━━━━━━━━━━━━━━\u001b[0m \u001b[32m16.8/16.8 MB\u001b[0m \u001b[31m57.5 MB/s\u001b[0m eta \u001b[36m0:00:00\u001b[0m\n",
            "\u001b[?25hDownloading gradio_client-1.3.0-py3-none-any.whl (318 kB)\n",
            "\u001b[2K   \u001b[90m━━━━━━━━━━━━━━━━━━━━━━━━━━━━━━━━━━━━━━━━\u001b[0m \u001b[32m318.7/318.7 kB\u001b[0m \u001b[31m17.5 MB/s\u001b[0m eta \u001b[36m0:00:00\u001b[0m\n",
            "\u001b[?25hDownloading tomlkit-0.12.0-py3-none-any.whl (37 kB)\n",
            "Downloading aiofiles-23.2.1-py3-none-any.whl (15 kB)\n",
            "Downloading httpx-0.27.0-py3-none-any.whl (75 kB)\n",
            "\u001b[2K   \u001b[90m━━━━━━━━━━━━━━━━━━━━━━━━━━━━━━━━━━━━━━━━\u001b[0m \u001b[32m75.6/75.6 kB\u001b[0m \u001b[31m5.3 MB/s\u001b[0m eta \u001b[36m0:00:00\u001b[0m\n",
            "\u001b[?25hDownloading httpcore-1.0.5-py3-none-any.whl (77 kB)\n",
            "\u001b[2K   \u001b[90m━━━━━━━━━━━━━━━━━━━━━━━━━━━━━━━━━━━━━━━━\u001b[0m \u001b[32m77.9/77.9 kB\u001b[0m \u001b[31m4.8 MB/s\u001b[0m eta \u001b[36m0:00:00\u001b[0m\n",
            "\u001b[?25hDownloading orjson-3.10.7-cp310-cp310-manylinux_2_17_x86_64.manylinux2014_x86_64.whl (141 kB)\n",
            "\u001b[2K   \u001b[90m━━━━━━━━━━━━━━━━━━━━━━━━━━━━━━━━━━━━━━━━\u001b[0m \u001b[32m141.9/141.9 kB\u001b[0m \u001b[31m6.6 MB/s\u001b[0m eta \u001b[36m0:00:00\u001b[0m\n",
            "\u001b[?25hDownloading python_multipart-0.0.9-py3-none-any.whl (22 kB)\n",
            "Downloading ruff-0.6.1-py3-none-manylinux_2_17_x86_64.manylinux2014_x86_64.whl (10.2 MB)\n",
            "\u001b[2K   \u001b[90m━━━━━━━━━━━━━━━━━━━━━━━━━━━━━━━━━━━━━━━━\u001b[0m \u001b[32m10.2/10.2 MB\u001b[0m \u001b[31m62.1 MB/s\u001b[0m eta \u001b[36m0:00:00\u001b[0m\n",
            "\u001b[?25hDownloading semantic_version-2.10.0-py2.py3-none-any.whl (15 kB)\n",
            "Downloading uvicorn-0.30.6-py3-none-any.whl (62 kB)\n",
            "\u001b[2K   \u001b[90m━━━━━━━━━━━━━━━━━━━━━━━━━━━━━━━━━━━━━━━━\u001b[0m \u001b[32m62.8/62.8 kB\u001b[0m \u001b[31m4.2 MB/s\u001b[0m eta \u001b[36m0:00:00\u001b[0m\n",
            "\u001b[?25hDownloading fastapi-0.112.1-py3-none-any.whl (93 kB)\n",
            "\u001b[2K   \u001b[90m━━━━━━━━━━━━━━━━━━━━━━━━━━━━━━━━━━━━━━━━\u001b[0m \u001b[32m93.2/93.2 kB\u001b[0m \u001b[31m6.5 MB/s\u001b[0m eta \u001b[36m0:00:00\u001b[0m\n",
            "\u001b[?25hDownloading ffmpy-0.4.0-py3-none-any.whl (5.8 kB)\n",
            "Downloading pydub-0.25.1-py2.py3-none-any.whl (32 kB)\n",
            "Downloading h11-0.14.0-py3-none-any.whl (58 kB)\n",
            "\u001b[2K   \u001b[90m━━━━━━━━━━━━━━━━━━━━━━━━━━━━━━━━━━━━━━━━\u001b[0m \u001b[32m58.3/58.3 kB\u001b[0m \u001b[31m4.3 MB/s\u001b[0m eta \u001b[36m0:00:00\u001b[0m\n",
            "\u001b[?25hDownloading starlette-0.38.2-py3-none-any.whl (72 kB)\n",
            "\u001b[2K   \u001b[90m━━━━━━━━━━━━━━━━━━━━━━━━━━━━━━━━━━━━━━━━\u001b[0m \u001b[32m72.0/72.0 kB\u001b[0m \u001b[31m5.2 MB/s\u001b[0m eta \u001b[36m0:00:00\u001b[0m\n",
            "\u001b[?25hDownloading websockets-12.0-cp310-cp310-manylinux_2_5_x86_64.manylinux1_x86_64.manylinux_2_17_x86_64.manylinux2014_x86_64.whl (130 kB)\n",
            "\u001b[2K   \u001b[90m━━━━━━━━━━━━━━━━━━━━━━━━━━━━━━━━━━━━━━━━\u001b[0m \u001b[32m130.2/130.2 kB\u001b[0m \u001b[31m8.3 MB/s\u001b[0m eta \u001b[36m0:00:00\u001b[0m\n",
            "\u001b[?25hInstalling collected packages: pydub, websockets, tomlkit, semantic-version, ruff, python-multipart, orjson, h11, ffmpy, aiofiles, uvicorn, starlette, httpcore, httpx, fastapi, gradio-client, gradio\n",
            "  Attempting uninstall: tomlkit\n",
            "    Found existing installation: tomlkit 0.13.2\n",
            "    Uninstalling tomlkit-0.13.2:\n",
            "      Successfully uninstalled tomlkit-0.13.2\n",
            "Successfully installed aiofiles-23.2.1 fastapi-0.112.1 ffmpy-0.4.0 gradio-4.42.0 gradio-client-1.3.0 h11-0.14.0 httpcore-1.0.5 httpx-0.27.0 orjson-3.10.7 pydub-0.25.1 python-multipart-0.0.9 ruff-0.6.1 semantic-version-2.10.0 starlette-0.38.2 tomlkit-0.12.0 uvicorn-0.30.6 websockets-12.0\n"
          ]
        }
      ]
    },
    {
      "cell_type": "code",
      "source": [
        "import gradio as gr\n",
        "import joblib\n",
        "import warnings\n",
        "import pandas as pd\n",
        "\n",
        "# Ignore warnings\n",
        "warnings.filterwarnings('ignore')\n",
        "\n",
        "# Load the model\n",
        "model_path = '/content/drive/MyDrive/Capstone/EDA/Final_random_forest_model.joblib'\n",
        "with open(model_path, 'rb') as file:\n",
        "  Final_Model = joblib.load(file)\n",
        "\n",
        "# Define genre mapping\n",
        "genre_mapping = {\n",
        "    'Tamil': 5, 'Telugu': 6, 'Kannada': 2, 'Bollywood': 0, 'Rap': 3, 'Romance': 4, 'Indian pop': 1,\n",
        "    'acoustic': 7, 'afrobeat': 8, 'alt-rock': 9, 'alternative': 10, 'ambient': 11, 'anime': 12,\n",
        "    'black-metal': 13, 'bluegrass': 14, 'blues': 15, 'brazil': 16, 'breakbeat': 17, 'british': 18,\n",
        "    'cantopop': 19, 'chicago-house': 20, 'children': 21, 'chill': 22, 'classical': 23, 'club': 24,\n",
        "    'comedy': 25, 'country': 26, 'dance': 27, 'dancehall': 28, 'death-metal': 29, 'deep-house': 30,\n",
        "    'detroit-techno': 31, 'disco': 32, 'disney': 33, 'drum-and-bass': 34, 'dub': 35, 'dubstep': 36,\n",
        "    'edm': 37, 'electro': 38, 'electronic': 39, 'emo': 40, 'folk': 41, 'forro': 42, 'french': 43,\n",
        "    'funk': 44, 'garage': 45, 'german': 46, 'gospel': 47, 'goth': 48, 'grindcore': 49, 'groove': 50,\n",
        "    'grunge': 51, 'guitar': 52, 'happy': 53, 'hard-rock': 54, 'hardcore': 55, 'hardstyle': 56,\n",
        "    'heavy-metal': 57, 'hip-hop': 58, 'honky-tonk': 59, 'house': 60, 'idm': 61, 'indian': 62,\n",
        "    'indie-pop': 64, 'indie': 63, 'industrial': 65, 'iranian': 66, 'j-dance': 67, 'j-idol': 68,\n",
        "    'j-pop': 69, 'j-rock': 70, 'jazz': 71, 'k-pop': 72, 'kids': 73, 'latin': 74, 'latino': 75,\n",
        "    'malay': 76, 'mandopop': 77, 'metal': 78, 'metalcore': 79, 'minimal-techno': 80, 'mpb': 81,\n",
        "    'new-age': 82, 'opera': 83, 'pagode': 84, 'party': 85, 'piano': 86, 'pop-film': 88, 'pop': 87,\n",
        "    'power-pop': 89, 'progressive-house': 90, 'psych-rock': 91, 'punk-rock': 93, 'punk': 92,\n",
        "    'r-n-b': 94, 'reggae': 95, 'reggaeton': 96, 'rock-n-roll': 98, 'rock': 97, 'rockabilly': 99,\n",
        "    'romance': 100, 'sad': 101, 'salsa': 102, 'samba': 103, 'sertanejo': 104, 'show-tunes': 105,\n",
        "    'singer-songwriter': 106, 'ska': 107, 'sleep': 108, 'songwriter': 109, 'soul': 110, 'spanish': 111,\n",
        "    'study': 112, 'swedish': 113, 'synth-pop': 114, 'tango': 115, 'techno': 116, 'trance': 117,\n",
        "    'trip-hop': 118, 'turkish': 119, 'world-music': 120\n",
        "}\n",
        "\n",
        "# Define the prediction function\n",
        "def Prediction(duration_ms, explicit, danceability, energy, key, loudness, mode, speechiness, acousticness, instrumentalness, liveness, valence, tempo, time_signature, genre):\n",
        "    # Convert 'explicit' and 'mode' to numeric if they are in boolean format\n",
        "    explicit = 1 if explicit else 0\n",
        "    mode = 1 if mode else 0\n",
        "\n",
        "    # Encode 'genre' using the mapping dictionary\n",
        "    genre = genre_mapping.get(genre, -1)\n",
        "\n",
        "    # Prepare input data\n",
        "    input_data = [[duration_ms, explicit, danceability, energy, key, loudness, mode, speechiness, acousticness, instrumentalness, liveness, valence, tempo, time_signature, genre]]\n",
        "\n",
        "    # Convert to DataFrame if your model expects DataFrame input\n",
        "    input_df = pd.DataFrame(input_data, columns=['duration_ms', 'explicit', 'danceability', 'energy', 'key', 'loudness', 'mode', 'speechiness', 'acousticness', 'instrumentalness', 'liveness', 'valence', 'tempo', 'time_signature', 'genre'])\n",
        "\n",
        "    # Get prediction\n",
        "    prediction = Final_Model.predict(input_df)[0]\n",
        "\n",
        "    # Map the prediction to categories\n",
        "    categories = ['Low Popularity', 'Medium Popularity', 'High Popularity', 'Very High Popularity']\n",
        "    return categories[prediction]\n",
        "\n",
        "# Define the Gradio interface\n",
        "iface = gr.Interface(\n",
        "    fn=Prediction,\n",
        "    inputs=[\n",
        "        gr.Number(label='Duration (ms)', value=0, precision=0, minimum=0, maximum=471556),\n",
        "        gr.Checkbox(label='Explicit'),  # Assuming boolean input\n",
        "        gr.Slider(minimum=0, maximum=1, step=0.01, label='Danceability'),\n",
        "        gr.Slider(minimum=0, maximum=1, step=0.01, label='Energy'),\n",
        "        gr.Number(label='Key', value=0, precision=0),  # Adjust according to key values\n",
        "        gr.Slider(minimum=-50, maximum=50, step=0.01, label='Loudness'),\n",
        "        gr.Checkbox(label='Mode'),  # Assuming boolean input\n",
        "        gr.Slider(minimum=0, maximum=1, step=0.01, label='Speechiness'),\n",
        "        gr.Slider(minimum=0, maximum=1, step=0.01, label='Acousticness'),\n",
        "        gr.Slider(minimum=0, maximum=1, step=0.01, label='Instrumentalness'),\n",
        "        gr.Slider(minimum=0, maximum=1, step=0.01, label='Liveness'),\n",
        "        gr.Slider(minimum=0, maximum=1, step=0.01, label='Valence'),\n",
        "        gr.Slider(minimum=0, maximum=242.1835, step=0.01, label='Tempo'),\n",
        "        gr.Number(label='Time Signature', value=4, precision=0),  # Adjust according to time signature values\n",
        "        gr.Dropdown(choices=list(genre_mapping.keys()), label='Genre')  # Dropdown for genre selection\n",
        "    ],\n",
        "    outputs=gr.Textbox(label='Predicted Popularity Category'),\n",
        "    title=\"Spotify Song Popularity Predictor\",\n",
        "    description='This Application Predicts the Popularity Category of a Spotify Song',\n",
        "    allow_flagging='never'\n",
        ")\n",
        "\n",
        "# Launch the interface\n",
        "iface.launch()\n"
      ],
      "metadata": {
        "colab": {
          "base_uri": "https://localhost:8080/",
          "height": 645
        },
        "id": "fcHnfb-wJrB4",
        "outputId": "9168f0a3-921c-444d-a25c-c308c55aaed3"
      },
      "execution_count": null,
      "outputs": [
        {
          "output_type": "stream",
          "name": "stdout",
          "text": [
            "Setting queue=True in a Colab notebook requires sharing enabled. Setting `share=True` (you can turn this off by setting `share=False` in `launch()` explicitly).\n",
            "\n",
            "Colab notebook detected. To show errors in colab notebook, set debug=True in launch()\n",
            "Running on public URL: https://da3c9f5570c3de608a.gradio.live\n",
            "\n",
            "This share link expires in 72 hours. For free permanent hosting and GPU upgrades, run `gradio deploy` from Terminal to deploy to Spaces (https://huggingface.co/spaces)\n"
          ]
        },
        {
          "output_type": "display_data",
          "data": {
            "text/plain": [
              "<IPython.core.display.HTML object>"
            ],
            "text/html": [
              "<div><iframe src=\"https://da3c9f5570c3de608a.gradio.live\" width=\"100%\" height=\"500\" allow=\"autoplay; camera; microphone; clipboard-read; clipboard-write;\" frameborder=\"0\" allowfullscreen></iframe></div>"
            ]
          },
          "metadata": {}
        },
        {
          "output_type": "execute_result",
          "data": {
            "text/plain": []
          },
          "metadata": {},
          "execution_count": 18
        }
      ]
    },
    {
      "cell_type": "code",
      "source": [
        "Prediction(duration_ms=219742.0,explicit=0,danceability=0.377,energy=0.651,key=4,loudness=-5.437,mode=0,speechiness=0.0589,acousticness=0.01970,instrumentalness=0.000053,liveness=0.1740,valence=0.0851,tempo=129.607,time_signature=4,genre='Romance')"
      ],
      "metadata": {
        "colab": {
          "base_uri": "https://localhost:8080/",
          "height": 35
        },
        "id": "VHmvB9HYKwNU",
        "outputId": "d3bfe93b-4367-4c00-a28c-5ce3ea6374f8"
      },
      "execution_count": null,
      "outputs": [
        {
          "output_type": "execute_result",
          "data": {
            "text/plain": [
              "'Medium Popularity'"
            ],
            "application/vnd.google.colaboratory.intrinsic+json": {
              "type": "string"
            }
          },
          "metadata": {},
          "execution_count": 9
        }
      ]
    },
    {
      "cell_type": "code",
      "source": [
        "Prediction(duration_ms=299960.0,explicit=0,danceability=0.59,energy=0.712,key=6,loudness=-6.156,mode=1,speechiness=0.0385,acousticness=0.01020,instrumentalness=0.000855,liveness=0.1000,valence=0.6200,tempo=97.512,time_signature=4,genre='happy')"
      ],
      "metadata": {
        "colab": {
          "base_uri": "https://localhost:8080/",
          "height": 35
        },
        "id": "mH8G8fiLK5sw",
        "outputId": "45373c2c-2d3f-4386-bb91-7523c3c9476e"
      },
      "execution_count": null,
      "outputs": [
        {
          "output_type": "execute_result",
          "data": {
            "text/plain": [
              "'Very High Popularity'"
            ],
            "application/vnd.google.colaboratory.intrinsic+json": {
              "type": "string"
            }
          },
          "metadata": {},
          "execution_count": 61
        }
      ]
    },
    {
      "cell_type": "code",
      "source": [
        "Prediction(duration_ms=138680.0,explicit=0,danceability=0.226,energy=0.0803,key=2,loudness=-21.048,mode=0,speechiness=0.0484,acousticness=0.920,instrumentalness=0.170100,liveness=0.0969,valence=0.137,tempo=176.020,time_signature=3,genre=5)"
      ],
      "metadata": {
        "colab": {
          "base_uri": "https://localhost:8080/",
          "height": 35
        },
        "id": "eIQVi80gLBzJ",
        "outputId": "cf47567e-5912-41cd-a960-3c71f9fb2a69"
      },
      "execution_count": null,
      "outputs": [
        {
          "output_type": "execute_result",
          "data": {
            "text/plain": [
              "'Low Popularity'"
            ],
            "application/vnd.google.colaboratory.intrinsic+json": {
              "type": "string"
            }
          },
          "metadata": {},
          "execution_count": 11
        }
      ]
    },
    {
      "cell_type": "code",
      "source": [
        "Prediction(duration_ms=275504.0,explicit=0,danceability=0.331,energy=0.2350,key=2,loudness=-13.816,mode=0,speechiness=0.011,acousticness=0.891,instrumentalness=0.000003,liveness=0.1070,valence=0.252,tempo=82.511,time_signature=4,genre='Bollywood')"
      ],
      "metadata": {
        "colab": {
          "base_uri": "https://localhost:8080/",
          "height": 35
        },
        "id": "SkGW4f_jLg4V",
        "outputId": "8d880941-0290-4ede-cb1a-ae2e99850854"
      },
      "execution_count": null,
      "outputs": [
        {
          "output_type": "execute_result",
          "data": {
            "text/plain": [
              "'High Popularity'"
            ],
            "application/vnd.google.colaboratory.intrinsic+json": {
              "type": "string"
            }
          },
          "metadata": {},
          "execution_count": 54
        }
      ]
    },
    {
      "cell_type": "markdown",
      "source": [
        "\n",
        "\n",
        "> *The Gradio app interface enables users to predict the popularity category of Spotify tracks based on various audio features. The model has been deployed to provide real-time predictions, with input fields tailored for song attributes and genre. The app offers a user-friendly experience to evaluate song popularity quickly.*\n",
        "\n"
      ],
      "metadata": {
        "id": "UQzmT1HDNfUC"
      }
    }
  ]
}